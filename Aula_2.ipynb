{
  "nbformat": 4,
  "nbformat_minor": 0,
  "metadata": {
    "colab": {
      "provenance": [],
      "authorship_tag": "ABX9TyP5BLU5i9KzMqxe998q4k4I",
      "include_colab_link": true
    },
    "kernelspec": {
      "name": "python3",
      "display_name": "Python 3"
    },
    "language_info": {
      "name": "python"
    }
  },
  "cells": [
    {
      "cell_type": "markdown",
      "metadata": {
        "id": "view-in-github",
        "colab_type": "text"
      },
      "source": [
        "<a href=\"https://colab.research.google.com/github/mariahmota/FCE_aula/blob/main/Aula_2.ipynb\" target=\"_parent\"><img src=\"https://colab.research.google.com/assets/colab-badge.svg\" alt=\"Open In Colab\"/></a>"
      ]
    },
    {
      "cell_type": "markdown",
      "source": [
        "Verificação de idade"
      ],
      "metadata": {
        "id": "2wPly4H0r0gI"
      }
    },
    {
      "cell_type": "code",
      "execution_count": null,
      "metadata": {
        "colab": {
          "base_uri": "https://localhost:8080/"
        },
        "id": "qZHxC-qLrB05",
        "outputId": "da4f1f7c-8980-4f82-c61b-21d4f99a201f"
      },
      "outputs": [
        {
          "output_type": "stream",
          "name": "stdout",
          "text": [
            "Digite sua idade: 15\n",
            "A pessoa não é maior de idade\n"
          ]
        }
      ],
      "source": [
        "idade = int(input('Digite sua idade: '))\n",
        "\n",
        "if idade >= 18:\n",
        "  print('A pessoa é maior de idade')\n",
        "else:\n",
        "  print('A pessoa não é maior de idade')"
      ]
    }
  ]
}