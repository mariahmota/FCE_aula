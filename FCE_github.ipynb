{
  "nbformat": 4,
  "nbformat_minor": 0,
  "metadata": {
    "colab": {
      "provenance": [],
      "authorship_tag": "ABX9TyPjFt5jh7glc+OMuJnHOEsk",
      "include_colab_link": true
    },
    "kernelspec": {
      "name": "python3",
      "display_name": "Python 3"
    },
    "language_info": {
      "name": "python"
    }
  },
  "cells": [
    {
      "cell_type": "markdown",
      "metadata": {
        "id": "view-in-github",
        "colab_type": "text"
      },
      "source": [
        "<a href=\"https://colab.research.google.com/github/mariahmota/FCE_aula/blob/main/FCE_github.ipynb\" target=\"_parent\"><img src=\"https://colab.research.google.com/assets/colab-badge.svg\" alt=\"Open In Colab\"/></a>"
      ]
    },
    {
      "cell_type": "code",
      "execution_count": null,
      "metadata": {
        "id": "pjXYKZ1o_c2B"
      },
      "outputs": [],
      "source": [
        "# Clonar repositório com o módulo desejado\n",
        "!wget -q https://raw.githubusercontent.com/juliosdutra/FundamentosComputacionais/main/Misturador_sal.ipynb\n",
        "\n",
        "# Rodar o módulo para carregar as funções\n",
        "%run Misturador_sal.ipynb"
      ]
    },
    {
      "cell_type": "code",
      "source": [
        "# Exibir as funções carregadas\n",
        "import inspect\n",
        "\n",
        "for name, obj in globals().items():\n",
        "    if inspect.isfunction(obj):\n",
        "        print(name)"
      ],
      "metadata": {
        "colab": {
          "base_uri": "https://localhost:8080/"
        },
        "id": "oBAkS_Up_xaA",
        "outputId": "dccfb763-46eb-4801-e485-32826c9a7632"
      },
      "execution_count": null,
      "outputs": [
        {
          "output_type": "stream",
          "name": "stdout",
          "text": [
            "misturador\n",
            "resolve_misturador\n"
          ]
        }
      ]
    },
    {
      "cell_type": "code",
      "source": [
        "# Help das funções desejadas\n",
        "help(misturador)"
      ],
      "metadata": {
        "colab": {
          "base_uri": "https://localhost:8080/"
        },
        "id": "jioeGM7N_4Ad",
        "outputId": "7cee53dd-3342-4ad3-9093-ef9fe552bed4"
      },
      "execution_count": null,
      "outputs": [
        {
          "output_type": "stream",
          "name": "stdout",
          "text": [
            "Help on function misturador in module __main__:\n",
            "\n",
            "misturador(FA, xA, FB, xB)\n",
            "    Calcula a vazão total e a concentração de saída de um misturador em regime estacionário.\n",
            "    \n",
            "    Aceita entradas escalares ou arrays NumPy para simulações múltiplas. Realiza validações\n",
            "    de domínio para evitar concentrações fora do intervalo [0, 1], vazões negativas ou\n",
            "    divisão por zero.\n",
            "    \n",
            "    Parâmetros:\n",
            "    ----------\n",
            "    FA : float ou array-like\n",
            "        Vazão da corrente A (kg/h). Deve ser >= 0.\n",
            "    xA : float ou array-like\n",
            "        Concentração da espécie na corrente A (fração entre 0 e 1).\n",
            "    FB : float ou array-like\n",
            "        Vazão da corrente B (kg/h). Deve ser >= 0.\n",
            "    xB : float ou array-like\n",
            "        Concentração da espécie na corrente B (fração entre 0 e 1).\n",
            "    \n",
            "    Retorno:\n",
            "    -------\n",
            "    dict ou None\n",
            "        Um dicionário com as chaves:\n",
            "            - 'F_total': array ou float com as vazões totais (kg/h)\n",
            "            - 'x_saida': array ou float com as concentrações de saída (fração)\n",
            "        Retorna None se houver erro de validação.\n",
            "    \n",
            "    Exceções:\n",
            "    --------\n",
            "    ValueError\n",
            "        É levantado internamente para entradas inválidas (vazão negativa, concentração fora dos limites, etc.),\n",
            "        mas tratado dentro da função com impressão da mensagem de erro.\n",
            "    \n",
            "    Exemplos:\n",
            "    --------\n",
            "    >>> misturador(100, 0.10, 50, 0.30)\n",
            "    {'F_total': 150.0, 'x_saida': 0.16666666666666666}\n",
            "    \n",
            "    >>> misturador([100, 80], [0.1, 0.2], [50, 60], [0.3, 0.1])\n",
            "    {'F_total': array([150., 140.]), 'x_saida': array([0.16666667, 0.15714286])}\n",
            "\n"
          ]
        }
      ]
    },
    {
      "cell_type": "code",
      "source": [
        "misturador(100, 0.10, 50, 0.30)"
      ],
      "metadata": {
        "colab": {
          "base_uri": "https://localhost:8080/"
        },
        "id": "VbfADoXCAfk1",
        "outputId": "04e1b47a-7f26-4290-bdf1-0c6f346d7695"
      },
      "execution_count": null,
      "outputs": [
        {
          "output_type": "execute_result",
          "data": {
            "text/plain": [
              "{'F_total': np.float64(150.0), 'x_saida': np.float64(0.16666666666666666)}"
            ]
          },
          "metadata": {},
          "execution_count": 6
        }
      ]
    },
    {
      "cell_type": "code",
      "source": [
        "help(resolve_misturador)"
      ],
      "metadata": {
        "colab": {
          "base_uri": "https://localhost:8080/"
        },
        "id": "bMjX_ILnAlRp",
        "outputId": "b8fb1dc1-87a4-42cb-d2de-dfa198c139d6"
      },
      "execution_count": null,
      "outputs": [
        {
          "output_type": "stream",
          "name": "stdout",
          "text": [
            "Help on function resolve_misturador in module __main__:\n",
            "\n",
            "resolve_misturador(FA, xA, FB, xB)\n",
            "    Executa o cálculo da concentração de saída em um misturador e exibe os resultados.\n",
            "    \n",
            "    Esta função utiliza a função `misturador` para calcular a vazão total e a concentração\n",
            "    na saída de um misturador em regime estacionário, com base nas vazões e concentrações\n",
            "    de duas correntes de entrada. Os resultados são impressos no console.\n",
            "    \n",
            "    Parâmetros:\n",
            "    ----------\n",
            "    FA : float\n",
            "        Vazão da corrente A (kg/h).\n",
            "    xA : float\n",
            "        Concentração da espécie na corrente A (fração entre 0 e 1).\n",
            "    FB : float\n",
            "        Vazão da corrente B (kg/h).\n",
            "    xB : float\n",
            "        Concentração da espécie na corrente B (fração entre 0 e 1).\n",
            "    \n",
            "    Retorno:\n",
            "    -------\n",
            "    None\n",
            "        A função apenas imprime os resultados ou uma mensagem de erro.\n",
            "\n"
          ]
        }
      ]
    },
    {
      "cell_type": "code",
      "source": [
        "resolve_misturador(100, 0.10, 50, 0.30)"
      ],
      "metadata": {
        "colab": {
          "base_uri": "https://localhost:8080/"
        },
        "id": "-2z236S8AvMJ",
        "outputId": "d04184da-c16a-4f3c-d657-7c9aa5cb2f6f"
      },
      "execution_count": null,
      "outputs": [
        {
          "output_type": "stream",
          "name": "stdout",
          "text": [
            "Vazão total = 150.00 kg/h, Concentração = 0.17\n",
            "\n"
          ]
        }
      ]
    },
    {
      "cell_type": "code",
      "source": [
        "resolve_misturador(-100, 0.10, 50, 0.30)"
      ],
      "metadata": {
        "colab": {
          "base_uri": "https://localhost:8080/"
        },
        "id": "nPi46tH5GNJp",
        "outputId": "45e52a72-18bb-4be2-fdc6-228f208641c4"
      },
      "execution_count": null,
      "outputs": [
        {
          "output_type": "stream",
          "name": "stdout",
          "text": [
            "Erro na entrada: Vazões não podem ser negativas.\n",
            "Erro no cálculo. Verifique as entradas.\n",
            "\n"
          ]
        }
      ]
    }
  ]
}