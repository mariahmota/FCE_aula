{
  "nbformat": 4,
  "nbformat_minor": 0,
  "metadata": {
    "colab": {
      "provenance": []
    },
    "kernelspec": {
      "name": "python3",
      "display_name": "Python 3"
    },
    "language_info": {
      "name": "python"
    }
  },
  "cells": [
    {
      "cell_type": "markdown",
      "source": [
        "# Unidade 1 - Ambiente de desenvolvimento em Python\n"
      ],
      "metadata": {
        "id": "MZ_0jdiomOjP"
      }
    },
    {
      "cell_type": "markdown",
      "source": [
        "## **Aula 3**"
      ],
      "metadata": {
        "id": "Ka6gqFHyqpbm"
      }
    },
    {
      "cell_type": "markdown",
      "source": [
        "### The Zen of Python"
      ],
      "metadata": {
        "id": "vSqUvWBSqOO2"
      }
    },
    {
      "cell_type": "code",
      "execution_count": null,
      "metadata": {
        "colab": {
          "base_uri": "https://localhost:8080/"
        },
        "id": "aeo6w8Sliu89",
        "outputId": "6c7a4731-5044-4d55-e99b-99150c9364fa"
      },
      "outputs": [
        {
          "output_type": "stream",
          "name": "stdout",
          "text": [
            "The Zen of Python, by Tim Peters\n",
            "\n",
            "Beautiful is better than ugly.\n",
            "Explicit is better than implicit.\n",
            "Simple is better than complex.\n",
            "Complex is better than complicated.\n",
            "Flat is better than nested.\n",
            "Sparse is better than dense.\n",
            "Readability counts.\n",
            "Special cases aren't special enough to break the rules.\n",
            "Although practicality beats purity.\n",
            "Errors should never pass silently.\n",
            "Unless explicitly silenced.\n",
            "In the face of ambiguity, refuse the temptation to guess.\n",
            "There should be one-- and preferably only one --obvious way to do it.\n",
            "Although that way may not be obvious at first unless you're Dutch.\n",
            "Now is better than never.\n",
            "Although never is often better than *right* now.\n",
            "If the implementation is hard to explain, it's a bad idea.\n",
            "If the implementation is easy to explain, it may be a good idea.\n",
            "Namespaces are one honking great idea -- let's do more of those!\n"
          ]
        }
      ],
      "source": [
        "import this"
      ]
    },
    {
      "cell_type": "markdown",
      "source": [
        "### Horário e data"
      ],
      "metadata": {
        "id": "4-oS73bJpVIX"
      }
    },
    {
      "cell_type": "code",
      "source": [
        "from datetime import datetime\n",
        "\n",
        "# Captura o horário e data atual\n",
        "agora = datetime.now()\n",
        "data = agora.strftime(\"%d/%m/%Y\")\n",
        "hora = agora.strftime(\"%H:%M:%S\")\n",
        "\n",
        "# Mensagem personalizada\n",
        "nome = \"Julio Dutra\"\n",
        "mensagem = f\"👋 Olá, {nome}! \\nHoje é {data}, e agora são {hora}.\"\n",
        "\n",
        "print(mensagem)\n",
        "print(\"🚀 Bem-vindo ao mundo da programação!\")"
      ],
      "metadata": {
        "colab": {
          "base_uri": "https://localhost:8080/"
        },
        "id": "U8B675A_oTKu",
        "outputId": "9f15052f-38c0-4153-bda6-ed69a448691a"
      },
      "execution_count": null,
      "outputs": [
        {
          "output_type": "stream",
          "name": "stdout",
          "text": [
            "👋 Olá, Julio Dutra! \n",
            "Hoje é 06/05/2025, e agora são 22:08:23.\n",
            "🚀 Bem-vindo ao mundo da programação!\n"
          ]
        }
      ]
    },
    {
      "cell_type": "markdown",
      "source": [
        "### Exercícios\n"
      ],
      "metadata": {
        "id": "9VScO7ylu25_"
      }
    },
    {
      "cell_type": "code",
      "source": [
        "T1 = 350\n",
        "T2 = 280\n",
        "P = 1.5\n",
        "\n",
        "print('Verdadeiro ou falso:\\n')\n",
        "print('1. T1>T2 and P>1 ->',T1>T2 and P>1)\n",
        "print('2. T2>=300 or P<1 ->', T2>=300 or P<1)\n",
        "print('3. not(P == 1.5) ->', not(P == 1.5))\n",
        "print('4. (T1-T2)>100 and (P>=1.5) ->', (T1-T2)>100 and (P>=1.5))\n",
        "print('5. (T1/T2<1.5) or (T2 == 280) ->', (T1/T2<1.5) or (T2 == 280))"
      ],
      "metadata": {
        "colab": {
          "base_uri": "https://localhost:8080/"
        },
        "id": "1Y2KDYWotBKX",
        "outputId": "5834f9dc-4e6c-4597-b361-7f2435be5a61"
      },
      "execution_count": null,
      "outputs": [
        {
          "output_type": "stream",
          "name": "stdout",
          "text": [
            "Verdadeiro ou falso:\n",
            "\n",
            "1. T1>T2 and P>1 -> True\n",
            "2. T2>=300 or P<1 -> False\n",
            "3. not(P == 1.5) -> False\n",
            "4. (T1-T2)>100 and (P>=1.5) -> False\n",
            "5. (T1/T2<1.5) or (T2 == 280) -> True\n"
          ]
        }
      ]
    },
    {
      "cell_type": "code",
      "source": [
        "import numpy as np\n",
        "\n",
        "concentracao = int(input('Concentração do ácido em mol/L: '))\n",
        "\n",
        "pH = -np.log(concentracao)\n",
        "print('pH =', pH)"
      ],
      "metadata": {
        "colab": {
          "base_uri": "https://localhost:8080/"
        },
        "id": "1F0U8fqFv7ln",
        "outputId": "d914426e-1c45-432d-f0bb-8a32f1240e7a"
      },
      "execution_count": null,
      "outputs": [
        {
          "output_type": "stream",
          "name": "stdout",
          "text": [
            "Concentração do ácido em mol/L: 13\n",
            "pH = -2.5649493574615367\n"
          ]
        }
      ]
    },
    {
      "cell_type": "markdown",
      "source": [
        "# Unidade 2 - Importação de bibliotecas\n"
      ],
      "metadata": {
        "id": "1KOi6JJqnbu6"
      }
    },
    {
      "cell_type": "code",
      "source": [
        "import numpy as np\n",
        "from scipy import linalg\n",
        "\n",
        "A = np.array([[-1, 0, 0.5],\n",
        "      [4, 2, 0],\n",
        "      [1, -2, 1]])\n",
        "\n",
        "invA = linalg.inv(A)\n",
        "\n",
        "b = np.array([0.25, 1.20, 0.30])\n",
        "\n",
        "X = invA @ b\n",
        "print('A solução do sistema linear é\\n', X)\n",
        "\n",
        "# Usando a biblioteca\n",
        "x = np.dot(invA, b)\n",
        "print(x)\n"
      ],
      "metadata": {
        "colab": {
          "base_uri": "https://localhost:8080/"
        },
        "id": "xxR8sWxJntpt",
        "outputId": "8a9d3f3f-c6cc-4dcc-b99f-e41af5c67ef7"
      },
      "execution_count": null,
      "outputs": [
        {
          "output_type": "stream",
          "name": "stdout",
          "text": [
            "A solução do sistema linear é\n",
            " [0.14285714 0.31428571 0.78571429]\n",
            "[0.14285714 0.31428571 0.78571429]\n"
          ]
        }
      ]
    },
    {
      "cell_type": "markdown",
      "source": [
        "## **Aula 4**\n"
      ],
      "metadata": {
        "id": "4XW46QWyv30G"
      }
    },
    {
      "cell_type": "markdown",
      "source": [
        "# Unidade 2 - Estruturas de controle"
      ],
      "metadata": {
        "id": "pEPlko_VyjEy"
      }
    },
    {
      "cell_type": "code",
      "source": [
        "nivel_tanque = 9.8\n",
        "\n",
        "if 10<=nivel_tanque<=90:\n",
        "  print('O nível do tanque está dentro do limite aceitável')\n",
        "elif nivel_tanque > 90:\n",
        "  print('O nível do tanque está acima do limite aceitável')\n",
        "else:\n",
        "  print('O nível do tanque está abaixo do limite aceitável')\n"
      ],
      "metadata": {
        "colab": {
          "base_uri": "https://localhost:8080/"
        },
        "id": "MK4z1fM402va",
        "outputId": "783bc04d-80bc-4a20-c0b9-22628d3df7c2"
      },
      "execution_count": null,
      "outputs": [
        {
          "output_type": "stream",
          "name": "stdout",
          "text": [
            "O nível do tanque está abaixo do limite aceitável\n"
          ]
        }
      ]
    },
    {
      "cell_type": "code",
      "source": [
        "try:\n",
        "  if not isinstance(nivel_tanque,(int)):\n",
        "    raise ValueError('Valor inválido')\n",
        "  elif 10<=nivel_tanque<=90:\n",
        "    print('O nível do tanque está dentro do limite aceitável')\n",
        "  elif nivel_tanque > 90:\n",
        "    print('O nível do tanque está acima do limite aceitável')\n",
        "  else:\n",
        "    print('O nível do tanque está abaixo do limite aceitável')\n",
        "\n",
        "except ValueError as e:\n",
        "  print(f'Há falhas na leitura: {e}')"
      ],
      "metadata": {
        "colab": {
          "base_uri": "https://localhost:8080/"
        },
        "id": "POGJzwTL3bYb",
        "outputId": "8d78e1ca-cee7-44fc-9e03-35e42d714e3d"
      },
      "execution_count": null,
      "outputs": [
        {
          "output_type": "stream",
          "name": "stdout",
          "text": [
            "Há falhas na leitura: Valor inválido\n"
          ]
        }
      ]
    },
    {
      "cell_type": "markdown",
      "source": [
        "## Aula 5"
      ],
      "metadata": {
        "id": "GlmxK_hjBEs3"
      }
    },
    {
      "cell_type": "code",
      "source": [
        "import numpy as np\n",
        "\n",
        "soma = 0\n",
        "n = 0\n",
        "erro = 100\n",
        "tol = 1e-6\n",
        "\n",
        "while erro > tol:\n",
        "  soma = soma + (((-1)**n)/(2*n+1))\n",
        "  erro = (((np.pi)/4) - soma)**2\n",
        "  n = n + 1\n",
        "else:\n",
        "  print('O número de termos necessários são:', n)\n"
      ],
      "metadata": {
        "colab": {
          "base_uri": "https://localhost:8080/"
        },
        "id": "vdhEBbQsBIJf",
        "outputId": "8c7377f5-182f-4da5-a8f5-ef22124ce07b"
      },
      "execution_count": null,
      "outputs": [
        {
          "output_type": "stream",
          "name": "stdout",
          "text": [
            "O número de termos necessários são: 250\n"
          ]
        }
      ]
    },
    {
      "cell_type": "markdown",
      "source": [
        "# Unidade 3 - Programação Orientadas a Equações e Modular"
      ],
      "metadata": {
        "id": "cqpS8W6u5yWy"
      }
    },
    {
      "cell_type": "markdown",
      "source": [
        "## **Aula 6**"
      ],
      "metadata": {
        "id": "05DxNfxs70GB"
      }
    },
    {
      "cell_type": "code",
      "source": [
        "def mixer(FA, FB, xA, xB):\n",
        "  try:\n",
        "    if FA < 0 or FB < 0:\n",
        "      raise ValueError('Vazões não podem ser negativas')\n",
        "    if xA < 0 or xA > 1 or xB < 0 or xB > 1:\n",
        "      raise ValueError('Composições devem estar entre 0 e 1.')\n",
        "    F = FA + FB\n",
        "    xf = (FA*xA + FB*xB)/F\n",
        "\n",
        "  except ValueError as e:\n",
        "    print(f'Ocorreu um erro: {e}')\n",
        "\n",
        "  return F, xf\n",
        "\n",
        "result1 = mixer(100, 50, 0.1, 0.3)\n",
        "print(f'F = {result1[0]} e xf = {result1[1]:.2f}')\n",
        "\n",
        "result2 = mixer(150, 50, 0.1, 0.3)\n",
        "print(f'F = {result2[0]} e xf = {result2[1]}')"
      ],
      "metadata": {
        "colab": {
          "base_uri": "https://localhost:8080/"
        },
        "id": "xd6BVAUW9HPa",
        "outputId": "c1f9e152-1e30-4967-c30f-8cad0ac13e0a"
      },
      "execution_count": null,
      "outputs": [
        {
          "output_type": "stream",
          "name": "stdout",
          "text": [
            "F = 150 e xf = 0.17\n",
            "F = 200 e xf = 0.15\n"
          ]
        }
      ]
    }
  ]
}