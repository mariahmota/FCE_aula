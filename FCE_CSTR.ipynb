{
  "nbformat": 4,
  "nbformat_minor": 0,
  "metadata": {
    "colab": {
      "provenance": [],
      "authorship_tag": "ABX9TyNOghq0IlcDCcMcAO2baT/A",
      "include_colab_link": true
    },
    "kernelspec": {
      "name": "python3",
      "display_name": "Python 3"
    },
    "language_info": {
      "name": "python"
    }
  },
  "cells": [
    {
      "cell_type": "markdown",
      "metadata": {
        "id": "view-in-github",
        "colab_type": "text"
      },
      "source": [
        "<a href=\"https://colab.research.google.com/github/mariahmota/FCE_aula/blob/main/FCE_CSTR.ipynb\" target=\"_parent\"><img src=\"https://colab.research.google.com/assets/colab-badge.svg\" alt=\"Open In Colab\"/></a>"
      ]
    },
    {
      "cell_type": "code",
      "execution_count": null,
      "metadata": {
        "id": "6F-BxAwEGbvY"
      },
      "outputs": [],
      "source": [
        "from dataclasses import dataclass\n",
        "\n",
        "@dataclass\n",
        "class CSTR_parametro:\n",
        "  F: float = 50.0 # L/min\n",
        "  V: float = 100.0 # L\n",
        "  k: float = 0.5 # 1/min\n",
        "\n",
        "def CSTR_modelo(param, Ca_entrada):\n",
        "  Ca_saida = (param.F*Ca_entrada)/(param.F + param.V*param.k)\n",
        "\n",
        "  return Ca_saida\n",
        "\n",
        "def CSTR_series(lista_param, Ca_entrada):\n",
        "  conc = [Ca_entrada]\n",
        "  conv = []\n",
        "  for param in lista_param:\n",
        "    Ca_saida = CSTR_modelo(param, Ca_entrada)\n",
        "    conv_local = 1 - Ca_saida/conc[0]\n",
        "    conc.append(Ca_saida)\n",
        "    conv.append(conv_local)\n",
        "    Ca_entrada = Ca_saida\n",
        "\n",
        "  return conc, conv\n"
      ]
    },
    {
      "cell_type": "code",
      "source": [
        "reator1 = CSTR_parametro()\n",
        "Ca0 = 1.0\n",
        "\n",
        "Ca1 = CSTR_modelo(reator1, Ca0)\n",
        "Ca2 = CSTR_modelo(reator1, Ca1)\n",
        "Ca3 = CSTR_modelo(reator1, Ca2)\n",
        "\n",
        "print(Ca0, Ca1, Ca2, Ca3)"
      ],
      "metadata": {
        "colab": {
          "base_uri": "https://localhost:8080/"
        },
        "id": "rELKvLSWN5RB",
        "outputId": "9a35c9bf-ad45-4bba-fb12-37e7a431a241"
      },
      "execution_count": null,
      "outputs": [
        {
          "output_type": "stream",
          "name": "stdout",
          "text": [
            "1.0 0.5 0.25 0.125\n"
          ]
        }
      ]
    },
    {
      "cell_type": "code",
      "source": [
        "# Parametros do reator\n",
        "lista_param = 3*[CSTR_parametro()]\n",
        "Ca0 = 1.0\n",
        "\n",
        "# Simulação\n",
        "conc, conv = CSTR_series(lista_param, Ca0)\n",
        "\n",
        "print(conc)\n",
        "print(conv)"
      ],
      "metadata": {
        "colab": {
          "base_uri": "https://localhost:8080/"
        },
        "id": "9Hcrs3wENlHd",
        "outputId": "ac762945-a38a-4d07-f22a-8237d439baad"
      },
      "execution_count": null,
      "outputs": [
        {
          "output_type": "stream",
          "name": "stdout",
          "text": [
            "[1.0, 0.5, 0.25, 0.125]\n",
            "[0.5, 0.75, 0.875]\n"
          ]
        }
      ]
    },
    {
      "cell_type": "code",
      "source": [
        " lista_param2 = [CSTR_parametro(F=50, V=200, k=0.35),\n",
        "                 CSTR_parametro(F=50, V=100, k=0.35),\n",
        "                 CSTR_parametro(F=50, V=50, k=3.00)]\n",
        "\n",
        "# Simulação\n",
        "conc2, conv2 = CSTR_series(lista_param2, Ca0)\n",
        "\n",
        "print(conc2)\n",
        "print(conv2)\n"
      ],
      "metadata": {
        "colab": {
          "base_uri": "https://localhost:8080/"
        },
        "id": "piQ57KHlOXZS",
        "outputId": "191571a3-d692-4f24-e389-9b652ca3e2bf"
      },
      "execution_count": null,
      "outputs": [
        {
          "output_type": "stream",
          "name": "stdout",
          "text": [
            "[1.0, 0.4166666666666667, 0.2450980392156863, 0.06127450980392157]\n",
            "[0.5833333333333333, 0.7549019607843137, 0.9387254901960784]\n"
          ]
        }
      ]
    }
  ]
}